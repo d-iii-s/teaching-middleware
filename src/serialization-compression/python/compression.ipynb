{
 "cells": [
  {
   "cell_type": "markdown",
   "id": "70d0bd9a-6e52-4834-8e00-40dd74d7c5ca",
   "metadata": {},
   "source": [
    "# Compression\n",
    "\n",
    "The purpose of this notebook is to show the typical compression ratios for text data. This can be used to estimate when serialization benefits from compression.\n"
   ]
  },
  {
   "cell_type": "code",
   "execution_count": null,
   "id": "3818a245-ae19-4d62-98b1-0d2842db2a19",
   "metadata": {},
   "outputs": [],
   "source": [
    "import os as _os\n",
    "import bz2 as _bz2\n",
    "import gzip as _gzip\n",
    "import lzma as _lzma\n",
    "import random as _random\n",
    "import typing as _typing\n",
    "import requests as _requests\n",
    "\n",
    "import pandas as _pd\n",
    "import seaborn as _sb\n",
    "\n",
    "# Public domain copy of The Iliad on Project Gutenberg.\n",
    "TEXT_LINK = 'https://www.gutenberg.org/ebooks/6130.txt.utf-8'\n",
    "\n",
    "DATA_FILE = 'compression.csv'\n",
    "\n",
    "CHUNK_SIZES = 1024\n",
    "CHUNK_COUNT = 1000\n",
    "\n",
    "COMPRESS_FUNCTIONS = {\n",
    "    'bz2' : _bz2.compress,\n",
    "    'gzip' : _gzip.compress,\n",
    "    'lzma' : _lzma.compress,\n",
    "}\n",
    "\n",
    "class Result (_typing.NamedTuple):\n",
    "    method: str\n",
    "    original: int\n",
    "    compressed: int\n"
   ]
  },
  {
   "cell_type": "markdown",
   "id": "b0943d4c-8a38-4f35-a66c-5fe91251751f",
   "metadata": {},
   "source": [
    "The computation compresses random chunks of text and returns average compressed sizes for ranges of original sizes.\n"
   ]
  },
  {
   "cell_type": "code",
   "execution_count": null,
   "id": "7d78955f-e6a5-41d8-8bde-d57b31fc1806",
   "metadata": {},
   "outputs": [],
   "source": [
    "def compute_results (text):\n",
    "    results = []\n",
    "    for size in range (CHUNK_SIZES):\n",
    "        offsets = [ _random.randrange (0, len (text) - size) for _ in range (CHUNK_COUNT) ]\n",
    "        chunks = [ text [offset:offset + size].encode ('utf-8') for offset in offsets ]\n",
    "        for comp, compress_function in COMPRESS_FUNCTIONS.items ():\n",
    "            sizes = [ len (compress_function (chunk)) for chunk in chunks ]\n",
    "            average = sum (sizes) / len (sizes)\n",
    "            results.append (Result (method = comp, original = size, compressed = average))\n",
    "    return results\n"
   ]
  },
  {
   "cell_type": "markdown",
   "id": "e7743f92-0a30-4e91-b02a-d9adad602c45",
   "metadata": {},
   "source": [
    "The diagram shows that compression typically starts paying off in terms of size after few hundred bytes of text.\n"
   ]
  },
  {
   "cell_type": "code",
   "execution_count": null,
   "id": "59214af4-c17d-46d7-9528-896193105240",
   "metadata": {},
   "outputs": [],
   "source": [
    "# Try to load the results if already computed.\n",
    "# Save new results if not already computed.\n",
    "try:\n",
    "    results = _pd.read_csv (DATA_FILE)\n",
    "\n",
    "except Exception:\n",
    "    text = _requests.get (TEXT_LINK).text\n",
    "    results = compute_results (text)\n",
    "    results.to_csv (DATA_FILE)\n",
    "\n",
    "plottable = _pd.DataFrame (results)\n",
    "\n",
    "_sb.set ()\n",
    "plot = _sb.relplot (data = plottable, x = 'original', y = 'compressed', hue = 'method', kind = 'line')\n",
    "plot.set_xlabels ('Original size [B]')\n",
    "plot.set_ylabels ('Compressed size [B]')\n",
    "plot._legend.set_title ('Method')\n"
   ]
  }
 ],
 "metadata": {
  "kernelspec": {
   "display_name": "Python 3 (ipykernel)",
   "language": "python",
   "name": "python3"
  },
  "language_info": {
   "codemirror_mode": {
    "name": "ipython",
    "version": 3
   },
   "file_extension": ".py",
   "mimetype": "text/x-python",
   "name": "python",
   "nbconvert_exporter": "python",
   "pygments_lexer": "ipython3",
   "version": "3.10.2"
  }
 },
 "nbformat": 4,
 "nbformat_minor": 5
}
